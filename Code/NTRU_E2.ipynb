{
 "cells": [
  {
   "cell_type": "code",
   "execution_count": 14,
   "metadata": {},
   "outputs": [],
   "source": [
    "import random\n",
    "k = 2\n",
    "total_time = 0"
   ]
  },
  {
   "cell_type": "code",
   "execution_count": 15,
   "metadata": {
    "scrolled": true
   },
   "outputs": [
    {
     "name": "stdout",
     "output_type": "stream",
     "text": [
      "Cpu time = 0.000299\n",
      "(N,p,q,d) = (11, 11, 307, 4)\n",
      "90.8830432990720\n"
     ]
    }
   ],
   "source": [
    "#-------------------------------------------------------------\n",
    "# Public parameter generator input = degree k\n",
    "#-------------------------------------------------------------\n",
    "def parameter_gen(k):\n",
    "    flag = True\n",
    "    while flag :\n",
    "        N = next_prime(randrange(2**k, 2**(k+1)))\n",
    "        p = next_prime(randrange(2**k, 2**(k+1)))\n",
    "        d = randrange(1, N)\n",
    "        q = next_prime(randrange((6*d + 1)*p, (6*d + 1)*(p*2^5)))\n",
    "        if gcd(p,q) == 1 :\n",
    "            if gcd(N,q) == 1 :\n",
    "                if q > (6*d + 1) * p :\n",
    "                    flag = False\n",
    "    return (N,p,q,d)\n",
    "#-------------------------------------------------------------\n",
    "t = cputime()\n",
    "(N,p,q,d) = parameter_gen(k)\n",
    "#(N,p,q,d) = (7,3,41,2)\n",
    "ti = cputime(t)\n",
    "total_time += ti\n",
    "print (\"Cpu time = \" + str(ti))\n",
    "print (\"(N,p,q,d) = \" + str((N,p,q,d)))\n",
    "print(n(N*log(q,2)))"
   ]
  },
  {
   "cell_type": "code",
   "execution_count": 16,
   "metadata": {},
   "outputs": [],
   "source": [
    "#-------------------------------------------------------------\n",
    "# Ring Mapping\n",
    "#-------------------------------------------------------------\n",
    "# ZZ[x] --> R=ZZ[x]/(x^N-1)\n",
    "def map_to_R(a):\n",
    "    R.<x> = PolynomialRing(ZZ)\n",
    "    idR=R.ideal(x^N-1)\n",
    "    QuoR.<x>=R.quotient_ring(idR)\n",
    "    return QuoR(a)\n",
    "#-------------------------------------------------------------\n",
    "# ZZ[x] --> Rp=ZZp[x]/(x^N-1)\n",
    "\n",
    "def map_to_Rp(a):\n",
    "    Rp=IntegerModRing(p)\n",
    "    Rp.<x>=PolynomialRing(Rp)\n",
    "    idRp=Rp.ideal(x^N-1)\n",
    "    QuoRp.<x>=Rp.quotient_ring(idRp)\n",
    "    return QuoRp(a)\n",
    "#-------------------------------------------------------------\n",
    "# ZZ[x] --> Rq=ZZq[x]/(x^N-1)\n",
    "\n",
    "def map_to_Rq(a):\n",
    "    Rq=IntegerModRing(q)\n",
    "    Rq.<x>=PolynomialRing(Rq)\n",
    "    idRq=Rq.ideal(x^N-1)\n",
    "    QuoRq.<x>=Rq.quotient_ring(idRq)\n",
    "    return QuoRq(a)\n",
    "#-------------------------------------------------------------\n",
    "# Tripolynomial\n",
    "#-------------------------------------------------------------\n",
    "def tri_poly(d_1, d_2) :\n",
    "    s = [1 for j in range(d_1 - 1)]\n",
    "    s = s + [-1 for j in range(d_2)]\n",
    "    s = s + [0 for j in range(N - d_2 - d_1)]\n",
    "    random.shuffle(s)\n",
    "    s.append(1)\n",
    "    return map_to_R(s)\n",
    "#-------------------------------------------------------------\n",
    "# Fq = f^(-1) in Rq\n",
    "#-------------------------------------------------------------\n",
    "def fq_inv(f) :\n",
    "    return map_to_Rq(f)^(-1)\n",
    "#-------------------------------------------------------------\n",
    "# Fp = f^(-1) in Rp\n",
    "#-------------------------------------------------------------\n",
    "def fp_inv(f) :\n",
    "    return map_to_Rp(f)^(-1)\n",
    "#-------------------------------------------------------------\n",
    "def find_h(F_q, g) :\n",
    "    return map_to_Rq(g)*F_q\n"
   ]
  },
  {
   "cell_type": "code",
   "execution_count": 17,
   "metadata": {},
   "outputs": [
    {
     "name": "stdout",
     "output_type": "stream",
     "text": [
      "Cpu time = 0.066072\n",
      "Alice's private key (f,F_p): \n"
     ]
    },
    {
     "data": {
      "text/html": [
       "<html><script type=\"math/tex; mode=display\">\\newcommand{\\Bold}[1]{\\mathbf{#1}}\\left(x^{10} - x^{9} + x^{8} + x^{7} + x^{6} - x^{5} - x^{4} + x^{2} - 1, 5 x^{10} + 3 x^{9} + 2 x^{8} + 7 x^{7} + 9 x^{6} + 9 x^{5} + 6 x^{4} + 7 x^{3} + 9 x^{2} + 10\\right)</script></html>"
      ],
      "text/plain": [
       "(x^10 - x^9 + x^8 + x^7 + x^6 - x^5 - x^4 + x^2 - 1,\n",
       " 5*x^10 + 3*x^9 + 2*x^8 + 7*x^7 + 9*x^6 + 9*x^5 + 6*x^4 + 7*x^3 + 9*x^2 + 10)"
      ]
     },
     "metadata": {},
     "output_type": "display_data"
    },
    {
     "name": "stdout",
     "output_type": "stream",
     "text": [
      "Alice's public key (h): \n"
     ]
    },
    {
     "data": {
      "text/html": [
       "<html><script type=\"math/tex; mode=display\">\\newcommand{\\Bold}[1]{\\mathbf{#1}}156 x^{10} + 10 x^{9} + 33 x^{8} + 107 x^{7} + 175 x^{6} + 170 x^{5} + 126 x^{4} + 160 x^{3} + 33 x^{2} + 54 x + 204</script></html>"
      ],
      "text/plain": [
       "156*x^10 + 10*x^9 + 33*x^8 + 107*x^7 + 175*x^6 + 170*x^5 + 126*x^4 + 160*x^3 + 33*x^2 + 54*x + 204"
      ]
     },
     "metadata": {},
     "output_type": "display_data"
    }
   ],
   "source": [
    "#-------------------------------------------------------------\n",
    "# Key generated by Alice\n",
    "#-------------------------------------------------------------\n",
    "#(N,p,q,d) = (7,3,41,2)\n",
    "#-------------------------------------------------------------\n",
    "t = cputime()\n",
    "f = tri_poly(d+1, d)\n",
    "g = tri_poly(d, d)\n",
    "F_q = fq_inv(f)\n",
    "F_p = fp_inv(f)\n",
    "h = find_h(F_q, g)\n",
    "ti = cputime(t)\n",
    "total_time += ti\n",
    "print (\"Cpu time = \" + str(ti))\n",
    "print (\"Alice's private key (f,F_p): \")\n",
    "show((f,F_p))\n",
    "print (\"Alice's public key (h): \")\n",
    "show(h)\n",
    "#latex(f)\n",
    "#latex(F_p)\n",
    "#latex(h)"
   ]
  },
  {
   "cell_type": "code",
   "execution_count": 19,
   "metadata": {
    "scrolled": true
   },
   "outputs": [
    {
     "name": "stdout",
     "output_type": "stream",
     "text": [
      "Cpu time = 0.005233\n",
      "Plant text : \n"
     ]
    },
    {
     "data": {
      "text/html": [
       "<html><script type=\"math/tex; mode=display\">\\newcommand{\\Bold}[1]{\\mathbf{#1}}4x^{10} + 5x^{9} + 8x^{8} + 2x^{7} + 10x^{6} + 6x^{5} + x^{4} + 3x^{3} + 9x^{2} + 7x</script></html>"
      ],
      "text/plain": [
       "4*x^10 + 5*x^9 + 8*x^8 + 2*x^7 + 10*x^6 + 6*x^5 + x^4 + 3*x^3 + 9*x^2 + 7*x"
      ]
     },
     "metadata": {},
     "output_type": "display_data"
    },
    {
     "name": "stdout",
     "output_type": "stream",
     "text": [
      "Cipher text: \n"
     ]
    },
    {
     "data": {
      "text/html": [
       "<html><script type=\"math/tex; mode=display\">\\newcommand{\\Bold}[1]{\\mathbf{#1}}249 x^{10} + 210 x^{9} + 137 x^{8} + 173 x^{7} + 169 x^{6} + 222 x^{5} + 96 x^{4} + 278 x^{3} + 15 x^{2} + 98 x + 250</script></html>"
      ],
      "text/plain": [
       "249*x^10 + 210*x^9 + 137*x^8 + 173*x^7 + 169*x^6 + 222*x^5 + 96*x^4 + 278*x^3 + 15*x^2 + 98*x + 250"
      ]
     },
     "metadata": {},
     "output_type": "display_data"
    }
   ],
   "source": [
    "#-------------------------------------------------------------\n",
    "# Encryption Function\n",
    "# m in R\n",
    "#-------------------------------------------------------------\n",
    "def encrypt(m, h, r):\n",
    "    m=map_to_R(m)\n",
    "    r=map_to_R(r)\n",
    "    return map_to_Rq((p*r*h)+m)\n",
    "#-------------------------------------------------------------\n",
    "# Bob encrypt message\n",
    "#-------------------------------------------------------------\n",
    "m = random.sample(range(0, p), N)\n",
    "m = map_to_R(m)\n",
    "#m=map_to_R(-x^5+x^3+x^2-x+1)\n",
    "#m = tri_poly(3,2)\n",
    "#-------------------------------------------------------------\n",
    "# Ephimeral key\n",
    "#-------------------------------------------------------------\n",
    "#r = x^6 - x^5 + x-1\n",
    "r = tri_poly(d,d)\n",
    "#-------------------------------------------------------------\n",
    "t = cputime()\n",
    "e = encrypt(m, h, r)\n",
    "ti = cputime(t)\n",
    "total_time += ti\n",
    "print (\"Cpu time = \" + str(ti))\n",
    "print (\"Plant text : \")\n",
    "show(m)\n",
    "#latex(m)\n",
    "print (\"Cipher text: \")\n",
    "show(e)\n",
    "#latex(e)"
   ]
  },
  {
   "cell_type": "code",
   "execution_count": 20,
   "metadata": {},
   "outputs": [],
   "source": [
    "#-------------------------------------------------------------\n",
    "# Center lift function\n",
    "#-------------------------------------------------------------\n",
    "def center_lift(a, t) :\n",
    "    lst_a = list(a)\n",
    "    for i in range(len(lst_a)) :\n",
    "        if lst_a[i] <= -t/2 :\n",
    "            lst_a[i] += t\n",
    "        elif lst_a[i] > t/2 :\n",
    "            lst_a[i] -= t\n",
    "    return map_to_R(lst_a)\n",
    "#-------------------------------------------------------------\n",
    "# Decrypt recieved cypher text e(x)\n",
    "#-------------------------------------------------------------\n",
    "\n",
    "def decrypt(f, F_p, e) :\n",
    "    f = map_to_R(f)\n",
    "    a = map_to_Rq(f*e)\n",
    "    a = map_to_R(a)\n",
    "    #a = ((f * e) % id) % q\n",
    "    a = center_lift(a, q)\n",
    "    mhat = map_to_Rp(F_p*a)\n",
    "    mhat = map_to_R(mhat)\n",
    "    mhat = center_lift(mhat, p)\n",
    "    return mhat\n",
    "#-------------------------------------------------------------"
   ]
  },
  {
   "cell_type": "code",
   "execution_count": 21,
   "metadata": {},
   "outputs": [
    {
     "name": "stdout",
     "output_type": "stream",
     "text": [
      "Cpu time = 0.013886\n",
      "Recovery message: \n"
     ]
    },
    {
     "data": {
      "text/html": [
       "<html><script type=\"math/tex; mode=display\">\\newcommand{\\Bold}[1]{\\mathbf{#1}}4x^{10} + 5x^{9} - 3x^{8} + 2x^{7} - x^{6} - 5x^{5} + x^{4} + 3x^{3} - 2x^{2} - 4x</script></html>"
      ],
      "text/plain": [
       "4*x^10 + 5*x^9 - 3*x^8 + 2*x^7 - x^6 - 5*x^5 + x^4 + 3*x^3 - 2*x^2 - 4*x"
      ]
     },
     "metadata": {},
     "output_type": "display_data"
    },
    {
     "data": {
      "text/html": [
       "<html><script type=\"math/tex; mode=display\">\\newcommand{\\Bold}[1]{\\mathbf{#1}}4 x^{10} + 5 x^{9} + 8 x^{8} + 2 x^{7} + 10 x^{6} + 6 x^{5} + x^{4} + 3 x^{3} + 9 x^{2} + 7 x</script></html>"
      ],
      "text/plain": [
       "4*x^10 + 5*x^9 + 8*x^8 + 2*x^7 + 10*x^6 + 6*x^5 + x^4 + 3*x^3 + 9*x^2 + 7*x"
      ]
     },
     "metadata": {},
     "output_type": "display_data"
    },
    {
     "name": "stdout",
     "output_type": "stream",
     "text": [
      "Plain text: \n"
     ]
    },
    {
     "data": {
      "text/html": [
       "<html><script type=\"math/tex; mode=display\">\\newcommand{\\Bold}[1]{\\mathbf{#1}}4x^{10} + 5x^{9} + 8x^{8} + 2x^{7} + 10x^{6} + 6x^{5} + x^{4} + 3x^{3} + 9x^{2} + 7x</script></html>"
      ],
      "text/plain": [
       "4*x^10 + 5*x^9 + 8*x^8 + 2*x^7 + 10*x^6 + 6*x^5 + x^4 + 3*x^3 + 9*x^2 + 7*x"
      ]
     },
     "metadata": {},
     "output_type": "display_data"
    }
   ],
   "source": [
    "#--------------------------------------------------------\n",
    "# Alice decrypt cypher text\n",
    "#--------------------------------------------------------\n",
    "t = cputime()\n",
    "mhat_lift = decrypt(f, F_p, e)\n",
    "ti = cputime(t)\n",
    "total_time += ti\n",
    "print (\"Cpu time = \" + str(ti))\n",
    "print (\"Recovery message: \")\n",
    "show(mhat_lift)\n",
    "show(map_to_Rp(mhat_lift))\n",
    "mhat_lift = map_to_Rp(mhat_lift)\n",
    "print (\"Plain text: \")\n",
    "show(m)\n",
    "#--------------------------------------------------------"
   ]
  },
  {
   "cell_type": "code",
   "execution_count": 22,
   "metadata": {},
   "outputs": [
    {
     "name": "stdout",
     "output_type": "stream",
     "text": [
      "Total Time = 0.103071\n"
     ]
    }
   ],
   "source": [
    "print(\"Total Time = \" + str(total_time))"
   ]
  },
  {
   "cell_type": "code",
   "execution_count": 23,
   "metadata": {},
   "outputs": [
    {
     "name": "stdout",
     "output_type": "stream",
     "text": [
      "True\n"
     ]
    }
   ],
   "source": [
    "print (mhat_lift == m)"
   ]
  },
  {
   "cell_type": "code",
   "execution_count": 24,
   "metadata": {},
   "outputs": [
    {
     "name": "stdout",
     "output_type": "stream",
     "text": [
      "(N,p,q,d) = (7, 5, 2767, 3)\n"
     ]
    },
    {
     "ename": "ValueError",
     "evalue": "sample larger than population",
     "output_type": "error",
     "traceback": [
      "\u001b[0;31m---------------------------------------------------------------------------\u001b[0m",
      "\u001b[0;31mValueError\u001b[0m                                Traceback (most recent call last)",
      "\u001b[0;32m<ipython-input-24-5bbaf79a7e23>\u001b[0m in \u001b[0;36m<module>\u001b[0;34m()\u001b[0m\n\u001b[1;32m     16\u001b[0m     \u001b[0mh\u001b[0m \u001b[0;34m=\u001b[0m \u001b[0mfind_h\u001b[0m\u001b[0;34m(\u001b[0m\u001b[0mF_q\u001b[0m\u001b[0;34m,\u001b[0m \u001b[0mg\u001b[0m\u001b[0;34m)\u001b[0m\u001b[0;34m\u001b[0m\u001b[0m\n\u001b[1;32m     17\u001b[0m \u001b[0;34m\u001b[0m\u001b[0m\n\u001b[0;32m---> 18\u001b[0;31m     \u001b[0mm\u001b[0m \u001b[0;34m=\u001b[0m \u001b[0mrandom\u001b[0m\u001b[0;34m.\u001b[0m\u001b[0msample\u001b[0m\u001b[0;34m(\u001b[0m\u001b[0mrange\u001b[0m\u001b[0;34m(\u001b[0m\u001b[0mInteger\u001b[0m\u001b[0;34m(\u001b[0m\u001b[0;36m0\u001b[0m\u001b[0;34m)\u001b[0m\u001b[0;34m,\u001b[0m \u001b[0mp\u001b[0m\u001b[0;34m)\u001b[0m\u001b[0;34m,\u001b[0m \u001b[0mN\u001b[0m\u001b[0;34m)\u001b[0m\u001b[0;34m\u001b[0m\u001b[0m\n\u001b[0m\u001b[1;32m     19\u001b[0m     \u001b[0mm\u001b[0m \u001b[0;34m=\u001b[0m \u001b[0mmap_to_Rp\u001b[0m\u001b[0;34m(\u001b[0m\u001b[0mm\u001b[0m\u001b[0;34m)\u001b[0m\u001b[0;34m\u001b[0m\u001b[0m\n\u001b[1;32m     20\u001b[0m     \u001b[0;31m#m = tri_poly(3,2)\u001b[0m\u001b[0;34m\u001b[0m\u001b[0;34m\u001b[0m\u001b[0m\n",
      "\u001b[0;32m/Applications/SageMath-8.6.app/Contents/Resources/sage/local/lib/python2.7/random.pyc\u001b[0m in \u001b[0;36msample\u001b[0;34m(self, population, k)\u001b[0m\n\u001b[1;32m    323\u001b[0m         \u001b[0mn\u001b[0m \u001b[0;34m=\u001b[0m \u001b[0mlen\u001b[0m\u001b[0;34m(\u001b[0m\u001b[0mpopulation\u001b[0m\u001b[0;34m)\u001b[0m\u001b[0;34m\u001b[0m\u001b[0m\n\u001b[1;32m    324\u001b[0m         \u001b[0;32mif\u001b[0m \u001b[0;32mnot\u001b[0m \u001b[0;36m0\u001b[0m \u001b[0;34m<=\u001b[0m \u001b[0mk\u001b[0m \u001b[0;34m<=\u001b[0m \u001b[0mn\u001b[0m\u001b[0;34m:\u001b[0m\u001b[0;34m\u001b[0m\u001b[0m\n\u001b[0;32m--> 325\u001b[0;31m             \u001b[0;32mraise\u001b[0m \u001b[0mValueError\u001b[0m\u001b[0;34m(\u001b[0m\u001b[0;34m\"sample larger than population\"\u001b[0m\u001b[0;34m)\u001b[0m\u001b[0;34m\u001b[0m\u001b[0m\n\u001b[0m\u001b[1;32m    326\u001b[0m         \u001b[0mrandom\u001b[0m \u001b[0;34m=\u001b[0m \u001b[0mself\u001b[0m\u001b[0;34m.\u001b[0m\u001b[0mrandom\u001b[0m\u001b[0;34m\u001b[0m\u001b[0m\n\u001b[1;32m    327\u001b[0m         \u001b[0m_int\u001b[0m \u001b[0;34m=\u001b[0m \u001b[0mint\u001b[0m\u001b[0;34m\u001b[0m\u001b[0m\n",
      "\u001b[0;31mValueError\u001b[0m: sample larger than population"
     ]
    }
   ],
   "source": [
    "#--------------------------------------------------------\n",
    "# edit by the advisor\n",
    "#--------------------------------------------------------\n",
    "#(N,p,q,d) = (7,3,41,2)\n",
    "(N,p,q,d) = parameter_gen(k)\n",
    "print (\"(N,p,q,d) = \" + str((N,p,q,d)))\n",
    "count = 0\n",
    "for i in range(1000) :\n",
    "    #f = x^6-x^4+x^3+x^2-1\n",
    "    #g = x^6+x^4-x^2-x\n",
    "    f = tri_poly(d+1, d)\n",
    "    g = tri_poly(d, d)\n",
    "\n",
    "    F_q = fq_inv(f)\n",
    "    F_p = fp_inv(f)\n",
    "    h = find_h(F_q, g)\n",
    "    \n",
    "    m = random.sample(range(0, p), N)\n",
    "    m = map_to_Rp(m)\n",
    "    #m = tri_poly(3,2)\n",
    "    r = tri_poly(d,d)\n",
    "    #r = x^6 - x^5 + x-1\n",
    "    \n",
    "    e = encrypt(m, h, r)\n",
    "    \n",
    "    mhat_lift = decrypt(f, F_p, e)\n",
    "    mhat_lift = map_to_Rp(mhat_lift)\n",
    "    if mhat_lift != m :\n",
    "        count += 1\n",
    "print (\"Error = \" + str(count))"
   ]
  },
  {
   "cell_type": "code",
   "execution_count": 28,
   "metadata": {},
   "outputs": [
    {
     "name": "stdout",
     "output_type": "stream",
     "text": [
      "#--------------------------------------------------------\n",
      "# Public parameter\n",
      "#--------------------------------------------------------\n",
      "Cpu time = 0.000336000000001\n",
      "(N,p,q,d) = (7, 7, 1201, 2)\n",
      "Key size = 71.6101430499394\n",
      "#--------------------------------------------------------\n",
      "# Public key gen\n",
      "#--------------------------------------------------------\n",
      "Cpu time = 0.034589\n",
      "Alice's private key (f,F_p): \n"
     ]
    },
    {
     "data": {
      "text/html": [
       "<html><script type=\"math/tex; mode=display\">\\newcommand{\\Bold}[1]{\\mathbf{#1}}\\left(x^{6} - x^{5} + x^{4} + x^{3} - x, 2 x^{5} + x^{2} + 2 x + 3\\right)</script></html>"
      ],
      "text/plain": [
       "(x^6 - x^5 + x^4 + x^3 - x, 2*x^5 + x^2 + 2*x + 3)"
      ]
     },
     "metadata": {},
     "output_type": "display_data"
    },
    {
     "name": "stdout",
     "output_type": "stream",
     "text": [
      "Alice's public key (h): \n"
     ]
    },
    {
     "data": {
      "text/html": [
       "<html><script type=\"math/tex; mode=display\">\\newcommand{\\Bold}[1]{\\mathbf{#1}}510 x^{6} + 892 x^{5} + 361 x^{4} + 32 x^{3} + 957 x^{2} + 1074 x + 978</script></html>"
      ],
      "text/plain": [
       "510*x^6 + 892*x^5 + 361*x^4 + 32*x^3 + 957*x^2 + 1074*x + 978"
      ]
     },
     "metadata": {},
     "output_type": "display_data"
    },
    {
     "name": "stdout",
     "output_type": "stream",
     "text": [
      "#--------------------------------------------------------\n",
      "# Encrypt\n",
      "#--------------------------------------------------------\n",
      "Cpu time = 0.018707\n",
      "Plant text : \n"
     ]
    },
    {
     "data": {
      "text/html": [
       "<html><script type=\"math/tex; mode=display\">\\newcommand{\\Bold}[1]{\\mathbf{#1}}5x^{5} + 2x^{4} + 4x^{3} + x^{2} + 6x + 3</script></html>"
      ],
      "text/plain": [
       "5*x^5 + 2*x^4 + 4*x^3 + x^2 + 6*x + 3"
      ]
     },
     "metadata": {},
     "output_type": "display_data"
    },
    {
     "name": "stdout",
     "output_type": "stream",
     "text": [
      "Cipher text: \n"
     ]
    },
    {
     "data": {
      "text/html": [
       "<html><script type=\"math/tex; mode=display\">\\newcommand{\\Bold}[1]{\\mathbf{#1}}804 x^{6} + 1096 x^{5} + 403 x^{4} + 416 x^{3} + 743 x^{2} + 718 x + 645</script></html>"
      ],
      "text/plain": [
       "804*x^6 + 1096*x^5 + 403*x^4 + 416*x^3 + 743*x^2 + 718*x + 645"
      ]
     },
     "metadata": {},
     "output_type": "display_data"
    },
    {
     "name": "stdout",
     "output_type": "stream",
     "text": [
      "#--------------------------------------------------------\n",
      "# Decrypt\n",
      "#--------------------------------------------------------\n",
      "Cpu time = 0.007067\n",
      "Recovery message: \n"
     ]
    },
    {
     "data": {
      "text/html": [
       "<html><script type=\"math/tex; mode=display\">\\newcommand{\\Bold}[1]{\\mathbf{#1}}-2x^{5} + 2x^{4} - 3x^{3} + x^{2} - x + 3</script></html>"
      ],
      "text/plain": [
       "-2*x^5 + 2*x^4 - 3*x^3 + x^2 - x + 3"
      ]
     },
     "metadata": {},
     "output_type": "display_data"
    },
    {
     "data": {
      "text/html": [
       "<html><script type=\"math/tex; mode=display\">\\newcommand{\\Bold}[1]{\\mathbf{#1}}5 x^{5} + 2 x^{4} + 4 x^{3} + x^{2} + 6 x + 3</script></html>"
      ],
      "text/plain": [
       "5*x^5 + 2*x^4 + 4*x^3 + x^2 + 6*x + 3"
      ]
     },
     "metadata": {},
     "output_type": "display_data"
    },
    {
     "name": "stdout",
     "output_type": "stream",
     "text": [
      "Plain text: \n"
     ]
    },
    {
     "data": {
      "text/html": [
       "<html><script type=\"math/tex; mode=display\">\\newcommand{\\Bold}[1]{\\mathbf{#1}}5x^{5} + 2x^{4} + 4x^{3} + x^{2} + 6x + 3</script></html>"
      ],
      "text/plain": [
       "5*x^5 + 2*x^4 + 4*x^3 + x^2 + 6*x + 3"
      ]
     },
     "metadata": {},
     "output_type": "display_data"
    },
    {
     "name": "stdout",
     "output_type": "stream",
     "text": [
      "#--------------------------------------------------------\n",
      "# Summary\n",
      "#--------------------------------------------------------\n",
      "Recovery check = True\n"
     ]
    }
   ],
   "source": [
    "import random\n",
    "k = 2\n",
    "total_time = 0\n",
    "#--------------------------------------------------------\n",
    "# Public parameter\n",
    "#--------------------------------------------------------\n",
    "print (\"#--------------------------------------------------------\\n# Public parameter\\n#--------------------------------------------------------\")\n",
    "t = cputime()\n",
    "(N,p,q,d) = parameter_gen(k)\n",
    "#(N,p,q,d) = (7,3,41,2)\n",
    "ti = cputime(t)\n",
    "#total_time += ti\n",
    "print (\"Cpu time = \" + str(ti))\n",
    "print (\"(N,p,q,d) = \" + str((N,p,q,d)))\n",
    "print(\"Key size = \" + str(n(N*log(q,2))))\n",
    "#--------------------------------------------------------\n",
    "# Public key gen\n",
    "#--------------------------------------------------------\n",
    "print (\"#--------------------------------------------------------\\n# Public key gen\\n#--------------------------------------------------------\")\n",
    "t = cputime()\n",
    "f = tri_poly(d+1, d)\n",
    "g = tri_poly(d, d)\n",
    "F_q = fq_inv(f)\n",
    "F_p = fp_inv(f)\n",
    "h = find_h(F_q, g)\n",
    "ti = cputime(t)\n",
    "#total_time += ti\n",
    "print (\"Cpu time = \" + str(ti))\n",
    "print (\"Alice's private key (f,F_p): \")\n",
    "show((f,F_p))\n",
    "print (\"Alice's public key (h): \")\n",
    "show(h)\n",
    "#--------------------------------------------------------\n",
    "# Encrypt\n",
    "#--------------------------------------------------------\n",
    "print (\"#--------------------------------------------------------\\n# Encrypt\\n#--------------------------------------------------------\")\n",
    "m = random.sample(range(0, p), N)\n",
    "m = map_to_R(m)\n",
    "r = tri_poly(d,d)\n",
    "t = cputime()\n",
    "e = encrypt(m, h, r)\n",
    "ti = cputime(t)\n",
    "#total_time += ti\n",
    "print (\"Cpu time = \" + str(ti))\n",
    "print (\"Plant text : \")\n",
    "show(m)\n",
    "print (\"Cipher text: \")\n",
    "show(e)\n",
    "#--------------------------------------------------------\n",
    "# Decrypt\n",
    "#--------------------------------------------------------\n",
    "print (\"#--------------------------------------------------------\\n# Decrypt\\n#--------------------------------------------------------\")\n",
    "t = cputime()\n",
    "mhat_lift = decrypt(f, F_p, e)\n",
    "ti = cputime(t)\n",
    "#total_time += ti\n",
    "print (\"Cpu time = \" + str(ti))\n",
    "print (\"Recovery message: \")\n",
    "show(mhat_lift)\n",
    "show(map_to_Rp(mhat_lift))\n",
    "mhat_lift = map_to_Rp(mhat_lift)\n",
    "print (\"Plain text: \")\n",
    "show(m)\n",
    "#--------------------------------------------------------\n",
    "# Summary\n",
    "#--------------------------------------------------------\n",
    "print (\"#--------------------------------------------------------\\n# Summary\\n#--------------------------------------------------------\")\n",
    "#print(\"Total Time = \" + str(total_time))\n",
    "print (\"Recovery check = \" + str(mhat_lift == m))"
   ]
  },
  {
   "cell_type": "code",
   "execution_count": 86,
   "metadata": {},
   "outputs": [
    {
     "data": {
      "text/html": [
       "<html><script type=\"math/tex; mode=display\">\\newcommand{\\Bold}[1]{\\mathbf{#1}}8 x^{6} + 26 x^{5} + 31 x^{4} + 21 x^{3} + 40 x^{2} + 2 x + 37</script></html>"
      ],
      "text/plain": [
       "8*x^6 + 26*x^5 + 31*x^4 + 21*x^3 + 40*x^2 + 2*x + 37"
      ]
     },
     "metadata": {},
     "output_type": "display_data"
    },
    {
     "data": {
      "text/html": [
       "<html><script type=\"math/tex; mode=display\">\\newcommand{\\Bold}[1]{\\mathbf{#1}}x^{6} + x^{4} - x^{2} - x</script></html>"
      ],
      "text/plain": [
       "x^6 + x^4 - x^2 - x"
      ]
     },
     "metadata": {},
     "output_type": "display_data"
    },
    {
     "name": "stdout",
     "output_type": "stream",
     "text": [
      "Alice's private key (f,F_p): \n"
     ]
    },
    {
     "data": {
      "text/html": [
       "<html><script type=\"math/tex; mode=display\">\\newcommand{\\Bold}[1]{\\mathbf{#1}}\\left(x^{6} - x^{4} + x^{3} + x^{2} - 1, x^{6} + 2 x^{5} + x^{3} + x^{2} + x + 1\\right)</script></html>"
      ],
      "text/plain": [
       "(x^6 - x^4 + x^3 + x^2 - 1, x^6 + 2*x^5 + x^3 + x^2 + x + 1)"
      ]
     },
     "metadata": {},
     "output_type": "display_data"
    },
    {
     "name": "stdout",
     "output_type": "stream",
     "text": [
      "Alice's public key (h): \n"
     ]
    },
    {
     "data": {
      "text/html": [
       "<html><script type=\"math/tex; mode=display\">\\newcommand{\\Bold}[1]{\\mathbf{#1}}20 x^{6} + 40 x^{5} + 2 x^{4} + 38 x^{3} + 8 x^{2} + 26 x + 30</script></html>"
      ],
      "text/plain": [
       "20*x^6 + 40*x^5 + 2*x^4 + 38*x^3 + 8*x^2 + 26*x + 30"
      ]
     },
     "metadata": {},
     "output_type": "display_data"
    },
    {
     "name": "stdout",
     "output_type": "stream",
     "text": [
      "Plant text : \n"
     ]
    },
    {
     "data": {
      "text/html": [
       "<html><script type=\"math/tex; mode=display\">\\newcommand{\\Bold}[1]{\\mathbf{#1}}-x^{5} + x^{3} + x^{2} - x + 1</script></html>"
      ],
      "text/plain": [
       "-x^5 + x^3 + x^2 - x + 1"
      ]
     },
     "metadata": {},
     "output_type": "display_data"
    },
    {
     "name": "stdout",
     "output_type": "stream",
     "text": [
      "Cypher text : \n"
     ]
    },
    {
     "data": {
      "text/html": [
       "<html><script type=\"math/tex; mode=display\">\\newcommand{\\Bold}[1]{\\mathbf{#1}}31 x^{6} + 19 x^{5} + 4 x^{4} + 2 x^{3} + 40 x^{2} + 3 x + 25</script></html>"
      ],
      "text/plain": [
       "31*x^6 + 19*x^5 + 4*x^4 + 2*x^3 + 40*x^2 + 3*x + 25"
      ]
     },
     "metadata": {},
     "output_type": "display_data"
    }
   ],
   "source": [
    "#--------------------------------------------------------\n",
    "# Public parameter\n",
    "#--------------------------------------------------------\n",
    "(N,p,q,d) = (7,3,41,2)\n",
    "#--------------------------------------------------------\n",
    "# Key generated by Alice\n",
    "#--------------------------------------------------------\n",
    "f = x^6-x^4+x^3+x^2-1\n",
    "g = x^6+x^4-x^2-x\n",
    "g = map_to_R(g)\n",
    "F_q = fq_inv(f)\n",
    "F_p = fp_inv(f)\n",
    "h = find_h(F_q, g)\n",
    "show(F_q)\n",
    "show(g)\n",
    "print \"Alice's private key (f,F_p): \"\n",
    "show((f,F_p))\n",
    "print \"Alice's public key (h): \"\n",
    "show(h)\n",
    "#--------------------------------------------------------\n",
    "# Bob encrypt message\n",
    "#--------------------------------------------------------\n",
    "m = -x^5 + x^3 + x^2 - x + 1\n",
    "#--------------------------------------------------------\n",
    "# Ephimeral key\n",
    "#--------------------------------------------------------\n",
    "r= x^6 - x^5 + x-1\n",
    "#--------------------------------------------------------\n",
    "e = encrypt(m, h, r)\n",
    "print \"Plant text : \"\n",
    "show(m)\n",
    "print \"Cypher text : \"\n",
    "show(e)"
   ]
  },
  {
   "cell_type": "code",
   "execution_count": 85,
   "metadata": {},
   "outputs": [
    {
     "data": {
      "text/plain": [
       "20*x^6 + 40*x^5 + 43*x^4 + 79*x^3 + 8*x^2 + 26*x + 30"
      ]
     },
     "execution_count": 85,
     "metadata": {},
     "output_type": "execute_result"
    }
   ],
   "source": [
    "list_fq = list(F_q)\n",
    "list_g = list(g)\n",
    "for i in range(len(list_g)):\n",
    "    list_g[i] = list_g[i]%q\n",
    "ans = [0,0,0,0,0,0,0,0,0,0,0,0,0,0,0,0]\n",
    "for i in range(len(list_fq)):\n",
    "    for j in range(len(list_g)):\n",
    "        ans[i+j] += list_fq[i]*list_g[j]\n",
    "#R.<x> = PolynomialRing(ZZ)\n",
    "map_to_R(ans)"
   ]
  },
  {
   "cell_type": "code",
   "execution_count": null,
   "metadata": {},
   "outputs": [],
   "source": []
  }
 ],
 "metadata": {
  "kernelspec": {
   "display_name": "SageMath 8.6",
   "language": "",
   "name": "sagemath"
  },
  "language_info": {
   "codemirror_mode": {
    "name": "ipython",
    "version": 2
   },
   "file_extension": ".py",
   "mimetype": "text/x-python",
   "name": "python",
   "nbconvert_exporter": "python",
   "pygments_lexer": "ipython2",
   "version": "2.7.15"
  }
 },
 "nbformat": 4,
 "nbformat_minor": 1
}
