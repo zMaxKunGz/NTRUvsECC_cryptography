{
 "cells": [
  {
   "cell_type": "code",
   "execution_count": 20,
   "metadata": {},
   "outputs": [],
   "source": [
    "k = 256\n",
    "total_time = 0"
   ]
  },
  {
   "cell_type": "code",
   "execution_count": 21,
   "metadata": {},
   "outputs": [
    {
     "name": "stdout",
     "output_type": "stream",
     "text": [
      "Cpu time = 0.462935\n"
     ]
    }
   ],
   "source": [
    "# Create All Shared Varible Ea, P\n",
    "k = 8\n",
    "t = cputime()\n",
    "# Start Timer\n",
    "S.<V> = GF(2^k)\n",
    "Sgen = S.gen() #Genrator of FiniteField\n",
    "Sord = S.order() #Order of FiniteField\n",
    "a = randrange(0, Sord-1)\n",
    "A = Sgen^a #Random A parameter for EllipticCurve\n",
    "Ea = EllipticCurve(S,[1,A,0,0,1]) #Create EllipticCurve Over Finite Field 2^l\n",
    "g = Ea.gen(0) # Random 1 point in EllipticCurve\n",
    "#Eord = len(list(Ea)) # Order of EllipticCurve\n",
    "Eord = Ea.order()\n",
    "n = randrange(1, Eord-1)\n",
    "P = n*g # Random P point in EllipticCurve\n",
    "ti = cputime(t)\n",
    "total_time += ti\n",
    "print (\"Cpu time = \" + str(ti))\n",
    "#print(\"Public Varible P : \" + str(P))\n",
    "#print(\"EllipticCurve Order : \" + str(Eord))\n",
    "#print(\"Ea = \" + str(Ea))\n",
    "#list(Ea)"
   ]
  },
  {
   "cell_type": "code",
   "execution_count": 22,
   "metadata": {
    "scrolled": true
   },
   "outputs": [
    {
     "name": "stdout",
     "output_type": "stream",
     "text": [
      "Cpu time = 0.044301\n"
     ]
    }
   ],
   "source": [
    "# Create Alice public key Qa and private key na\n",
    "t = cputime()\n",
    "na = randrange(1, Eord - 1)\n",
    "Qa = na*P\n",
    "ti = cputime(t)\n",
    "total_time += ti\n",
    "print (\"Cpu time = \" + str(ti))\n",
    "#print(\"Alice's Private Key : %d\" % na)\n",
    "#print(\"Alice's Public Key : \" + str(Qa))"
   ]
  },
  {
   "cell_type": "code",
   "execution_count": 23,
   "metadata": {},
   "outputs": [
    {
     "name": "stdout",
     "output_type": "stream",
     "text": [
      "Cpu time = 0.130903\n"
     ]
    }
   ],
   "source": [
    "# Create Bob's cipher text (C1,C2)\n",
    "t = cputime()\n",
    "# Random Message\n",
    "point = Ea.gen(0)\n",
    "n = randrange(1, Eord-1)\n",
    "Me = n * point  # Plain text member of EllipticCurve\n",
    "k = randrange(1, Eord - 1) # Create temporary key\n",
    "C1 = k * P\n",
    "C2 = Me+(k * Qa)\n",
    "ti = cputime(t)\n",
    "total_time += ti\n",
    "print (\"Cpu time = \" + str(ti))\n",
    "#print C2.parent()\n",
    "#print(\"Bob's Plain Text : \" + str(Me))\n",
    "#print(\"Bob's Cipher Text : \" + str((C1,C2)))"
   ]
  },
  {
   "cell_type": "code",
   "execution_count": 24,
   "metadata": {},
   "outputs": [],
   "source": [
    "# Alice Decrypt (C1,C2) that is recieved from Bob\n",
    "t = cputime()\n",
    "PlainText = C2 - na * C1 # Decrypt message\n",
    "ti = cputime(t)\n",
    "total_time += ti\n",
    "#print(\"Derypted : \" + str(PlainText))\n",
    "#print (\"Cpu time = \" + str(ti))"
   ]
  },
  {
   "cell_type": "code",
   "execution_count": 25,
   "metadata": {},
   "outputs": [
    {
     "name": "stdout",
     "output_type": "stream",
     "text": [
      "True\n"
     ]
    }
   ],
   "source": [
    "print(str(Me==PlainText))"
   ]
  },
  {
   "cell_type": "code",
   "execution_count": 26,
   "metadata": {},
   "outputs": [
    {
     "name": "stdout",
     "output_type": "stream",
     "text": [
      "Total Time = 0.693167\n"
     ]
    }
   ],
   "source": [
    "print(\"Total Time = \" + str(total_time))"
   ]
  },
  {
   "cell_type": "code",
   "execution_count": null,
   "metadata": {},
   "outputs": [],
   "source": []
  },
  {
   "cell_type": "code",
   "execution_count": null,
   "metadata": {},
   "outputs": [],
   "source": []
  }
 ],
 "metadata": {
  "kernelspec": {
   "display_name": "SageMath 8.6",
   "language": "",
   "name": "sagemath"
  },
  "language_info": {
   "codemirror_mode": {
    "name": "ipython",
    "version": 2
   },
   "file_extension": ".py",
   "mimetype": "text/x-python",
   "name": "python",
   "nbconvert_exporter": "python",
   "pygments_lexer": "ipython2",
   "version": "2.7.15"
  }
 },
 "nbformat": 4,
 "nbformat_minor": 2
}
